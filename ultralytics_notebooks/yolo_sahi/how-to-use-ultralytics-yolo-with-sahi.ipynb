{
  "cells": [
    {
      "cell_type": "markdown",
      "metadata": {
        "id": "t6MPjfT5NrKQ"
      },
      "source": [
        "<div align=\"center\">\n",
        "\n",
        "  <a href=\"https://ultralytics.com/yolo\" target=\"_blank\">\n",
        "    <img width=\"1024\", src=\"https://raw.githubusercontent.com/ultralytics/assets/main/yolov8/banner-yolov8.png\"></a>\n",
        "\n",
        "  [中文](https://docs.ultralytics.com/zh/) | [한국어](https://docs.ultralytics.com/ko/) | [日本語](https://docs.ultralytics.com/ja/) | [Русский](https://docs.ultralytics.com/ru/) | [Deutsch](https://docs.ultralytics.com/de/) | [Français](https://docs.ultralytics.com/fr/) | [Español](https://docs.ultralytics.com/es/) | [Português](https://docs.ultralytics.com/pt/) | [Türkçe](https://docs.ultralytics.com/tr/) | [Tiếng Việt](https://docs.ultralytics.com/vi/) | [العربية](https://docs.ultralytics.com/ar/)\n",
        "\n",
        "  <a href=\"https://github.com/ultralytics/ultralytics/actions/workflows/ci.yml\"><img src=\"https://github.com/ultralytics/ultralytics/actions/workflows/ci.yml/badge.svg\" alt=\"Ultralytics CI\"></a>\n",
        "  <a href=\"https://colab.research.google.com/github/ultralytics/notebooks/blob/main/notebooks/how-to-use-ultralytics-yolo-with-sahi.ipynb\"><img src=\"https://colab.research.google.com/assets/colab-badge.svg\" alt=\"Open In Colab\"></a>\n",
        "\n",
        "  <a href=\"https://ultralytics.com/discord\"><img alt=\"Discord\" src=\"https://img.shields.io/discord/1089800235347353640?logo=discord&logoColor=white&label=Discord&color=blue\"></a>\n",
        "  <a href=\"https://community.ultralytics.com\"><img alt=\"Ultralytics Forums\" src=\"https://img.shields.io/discourse/users?server=https%3A%2F%2Fcommunity.ultralytics.com&logo=discourse&label=Forums&color=blue\"></a>\n",
        "  <a href=\"https://reddit.com/r/ultralytics\"><img alt=\"Ultralytics Reddit\" src=\"https://img.shields.io/reddit/subreddit-subscribers/ultralytics?style=flat&logo=reddit&logoColor=white&label=Reddit&color=blue\"></a>\n",
        "  \n",
        "  Welcome to the <a href=\"https://docs.ultralytics.com/guides/sahi-tiled-inference/\">Ultralytics YOLO11 with SAHI notebook 🚀</a>. YOLO11 is the latest version of the YOLO (You Only Look Once) AI models developed by <a href=\"https://ultralytics.com\">Ultralytics</a>. We hope that the resources in this notebook will help you get the most out of YOLO11 usage with SAHI. Please browse the YOLO11 <a href=\"https://docs.ultralytics.com/\">Docs</a> for details, raise an issue on <a href=\"https://github.com/ultralytics/ultralytics\">GitHub</a> for support, and join our <a href=\"https://ultralytics.com/discord\">Discord</a> community for questions and discussions!</div>"
      ]
    },
    {
      "cell_type": "markdown",
      "metadata": {
        "id": "7EM2nwU4jshF"
      },
      "source": [
        "# Ultralytics YOLO11 with SAHI\n",
        "\n",
        "This notebook serves as the starting point for using the YOLO11 model with [SAHI (Slicing Aided Hyper Inference)](https://docs.ultralytics.com/guides/sahi-tiled-inference/).\n",
        "\n",
        "### What is Sliced Inference?\n",
        "\n",
        "Sliced Inference refers to the practice of subdividing a large or high-resolution image into smaller segments (slices), conducting object detection on these slices, and then recompiling the slices to reconstruct the object locations on the original image. This technique is invaluable in scenarios where computational resources are limited or when working with extremely high-resolution images that could otherwise lead to memory issues.\n",
        "\n",
        "### Benefits of Sliced Inference\n",
        "\n",
        "- **Reduced Computational Burden**: Smaller image slices are faster to process, and they consume less memory, enabling smoother operation on lower-end hardware.\n",
        "\n",
        "- **Preserved Detection Quality**: Since each slice is treated independently, there is no reduction in the quality of object detection, provided the slices are large enough to capture the objects of interest.\n",
        "\n",
        "- **Enhanced Scalability**: The technique allows for object detection to be more easily scaled across different sizes and resolutions of images, making it ideal for a wide range of applications from satellite imagery to medical diagnostics."
      ]
    },
    {
      "cell_type": "markdown",
      "metadata": {
        "id": "7mGmQbAO5pQb"
      },
      "source": [
        "### Setup\n",
        "\n",
        "pip install `ultralytics` and [dependencies](https://github.com/ultralytics/ultralytics/blob/main/pyproject.toml) and check software and hardware.\n",
        "\n",
        "[![PyPI - Version](https://img.shields.io/pypi/v/ultralytics?logo=pypi&logoColor=white)](https://pypi.org/project/ultralytics/) [![Downloads](https://static.pepy.tech/badge/ultralytics)](https://www.pepy.tech/projects/ultralytics) [![PyPI - Python Version](https://img.shields.io/pypi/pyversions/ultralytics?logo=python&logoColor=gold)](https://pypi.org/project/ultralytics/)"
      ]
    },
    {
      "cell_type": "code",
      "execution_count": null,
      "metadata": {},
      "outputs": [],
      "source": [
        "!pip install -U -q ultralytics sahi"
      ]
    },
    {
      "cell_type": "code",
      "execution_count": 1,
      "metadata": {
        "colab": {
          "base_uri": "https://localhost:8080/"
        },
        "id": "wbvMlHd_QwMG",
        "outputId": "50a3d03c-2c78-407d-d1e4-55550e5f7fc1"
      },
      "outputs": [
        {
          "name": "stdout",
          "output_type": "stream",
          "text": [
            "Ultralytics 8.3.174 🚀 Python-3.13.5 torch-2.7.1 CPU (Apple M4 Pro)\n",
            "Setup complete ✅ (14 CPUs, 48.0 GB RAM, 678.3/926.4 GB disk)\n"
          ]
        }
      ],
      "source": [
        "import ultralytics\n",
        "from ultralytics.utils.downloads import safe_download\n",
        "ultralytics.checks()"
      ]
    },
    {
      "cell_type": "markdown",
      "metadata": {
        "id": "I7XY-vtnkPYf"
      },
      "source": [
        "### Clone Repository\n",
        "\n",
        "- Clone the `ultralytics` repository.\n",
        "- `%cd` to the examples section.\n",
        "- Move to `YOLOv8-SAHI-Inference-Video` folder."
      ]
    },
    {
      "cell_type": "code",
      "execution_count": 2,
      "metadata": {
        "colab": {
          "base_uri": "https://localhost:8080/"
        },
        "id": "fNX-Ymha0HY6",
        "outputId": "a4e52059-afe2-44f1-c77e-aaa48463ceb4"
      },
      "outputs": [
        {
          "name": "stdout",
          "output_type": "stream",
          "text": [
            "/Users/qbit-glitch/Desktop/coding-projects/computer_vision_projects/ultralytics_notebooks/yolo_sahi/ultralytics/examples/YOLOv8-SAHI-Inference-Video\n"
          ]
        }
      ],
      "source": [
        "# # Clone ultralytics repo\n",
        "# !git clone https://github.com/ultralytics/ultralytics\n",
        "\n",
        "# cd to local directory\n",
        "%cd ultralytics/examples/YOLOv8-SAHI-Inference-Video"
      ]
    },
    {
      "cell_type": "markdown",
      "metadata": {
        "id": "mWszyoifxOtR"
      },
      "source": [
        "### Download the Sample Video\n",
        "\n",
        "- If you want to use your own video, you can skip this step."
      ]
    },
    {
      "cell_type": "code",
      "execution_count": null,
      "metadata": {
        "colab": {
          "base_uri": "https://localhost:8080/"
        },
        "id": "Kkef3pklxVKP",
        "outputId": "58aec662-7870-4172-c1d1-4924e19254fc"
      },
      "outputs": [
        {
          "ename": "OSError",
          "evalue": "[Errno 30] Read-only file system: '/content'",
          "output_type": "error",
          "traceback": [
            "\u001b[31m---------------------------------------------------------------------------\u001b[39m",
            "\u001b[31mOSError\u001b[39m                                   Traceback (most recent call last)",
            "\u001b[36mCell\u001b[39m\u001b[36m \u001b[39m\u001b[32mIn[3]\u001b[39m\u001b[32m, line 1\u001b[39m\n\u001b[32m----> \u001b[39m\u001b[32m1\u001b[39m \u001b[43msafe_download\u001b[49m\u001b[43m(\u001b[49m\u001b[33;43mf\u001b[39;49m\u001b[33;43m\"\u001b[39;49m\u001b[33;43mhttps://github.com/ultralytics/assets/releases/download/v0.0.0/sahi.demo.video.mp4\u001b[39;49m\u001b[33;43m\"\u001b[39;49m\u001b[43m,\u001b[49m\u001b[43m \u001b[49m\u001b[38;5;28;43mdir\u001b[39;49m\u001b[43m=\u001b[49m\u001b[33;43m\"\u001b[39;49m\u001b[33;43m/content\u001b[39;49m\u001b[33;43m\"\u001b[39;49m\u001b[43m)\u001b[49m\n",
            "\u001b[36mFile \u001b[39m\u001b[32m~/Desktop/coding-projects/computer_vision_projects/ven2_cv/lib/python3.13/site-packages/ultralytics/utils/downloads.py:336\u001b[39m, in \u001b[36msafe_download\u001b[39m\u001b[34m(url, file, dir, unzip, delete, curl, retry, min_bytes, exist_ok, progress)\u001b[39m\n\u001b[32m    331\u001b[39m uri = (url \u001b[38;5;28;01mif\u001b[39;00m gdrive \u001b[38;5;28;01melse\u001b[39;00m clean_url(url)).replace(  \u001b[38;5;66;03m# cleaned and aliased url\u001b[39;00m\n\u001b[32m    332\u001b[39m     \u001b[33m\"\u001b[39m\u001b[33mhttps://github.com/ultralytics/assets/releases/download/v0.0.0/\u001b[39m\u001b[33m\"\u001b[39m,\n\u001b[32m    333\u001b[39m     \u001b[33m\"\u001b[39m\u001b[33mhttps://ultralytics.com/assets/\u001b[39m\u001b[33m\"\u001b[39m,  \u001b[38;5;66;03m# assets alias\u001b[39;00m\n\u001b[32m    334\u001b[39m )\n\u001b[32m    335\u001b[39m desc = \u001b[33mf\u001b[39m\u001b[33m\"\u001b[39m\u001b[33mDownloading \u001b[39m\u001b[38;5;132;01m{\u001b[39;00muri\u001b[38;5;132;01m}\u001b[39;00m\u001b[33m to \u001b[39m\u001b[33m'\u001b[39m\u001b[38;5;132;01m{\u001b[39;00mf\u001b[38;5;132;01m}\u001b[39;00m\u001b[33m'\u001b[39m\u001b[33m\"\u001b[39m\n\u001b[32m--> \u001b[39m\u001b[32m336\u001b[39m \u001b[43mf\u001b[49m\u001b[43m.\u001b[49m\u001b[43mparent\u001b[49m\u001b[43m.\u001b[49m\u001b[43mmkdir\u001b[49m\u001b[43m(\u001b[49m\u001b[43mparents\u001b[49m\u001b[43m=\u001b[49m\u001b[38;5;28;43;01mTrue\u001b[39;49;00m\u001b[43m,\u001b[49m\u001b[43m \u001b[49m\u001b[43mexist_ok\u001b[49m\u001b[43m=\u001b[49m\u001b[38;5;28;43;01mTrue\u001b[39;49;00m\u001b[43m)\u001b[49m  \u001b[38;5;66;03m# make directory if missing\u001b[39;00m\n\u001b[32m    337\u001b[39m check_disk_space(url, path=f.parent)\n\u001b[32m    338\u001b[39m curl_installed = shutil.which(\u001b[33m\"\u001b[39m\u001b[33mcurl\u001b[39m\u001b[33m\"\u001b[39m)\n",
            "\u001b[36mFile \u001b[39m\u001b[32m/opt/homebrew/Cellar/python@3.13/3.13.5/Frameworks/Python.framework/Versions/3.13/lib/python3.13/pathlib/_local.py:722\u001b[39m, in \u001b[36mPath.mkdir\u001b[39m\u001b[34m(self, mode, parents, exist_ok)\u001b[39m\n\u001b[32m    718\u001b[39m \u001b[38;5;250m\u001b[39m\u001b[33;03m\"\"\"\u001b[39;00m\n\u001b[32m    719\u001b[39m \u001b[33;03mCreate a new directory at this given path.\u001b[39;00m\n\u001b[32m    720\u001b[39m \u001b[33;03m\"\"\"\u001b[39;00m\n\u001b[32m    721\u001b[39m \u001b[38;5;28;01mtry\u001b[39;00m:\n\u001b[32m--> \u001b[39m\u001b[32m722\u001b[39m     \u001b[43mos\u001b[49m\u001b[43m.\u001b[49m\u001b[43mmkdir\u001b[49m\u001b[43m(\u001b[49m\u001b[38;5;28;43mself\u001b[39;49m\u001b[43m,\u001b[49m\u001b[43m \u001b[49m\u001b[43mmode\u001b[49m\u001b[43m)\u001b[49m\n\u001b[32m    723\u001b[39m \u001b[38;5;28;01mexcept\u001b[39;00m \u001b[38;5;167;01mFileNotFoundError\u001b[39;00m:\n\u001b[32m    724\u001b[39m     \u001b[38;5;28;01mif\u001b[39;00m \u001b[38;5;129;01mnot\u001b[39;00m parents \u001b[38;5;129;01mor\u001b[39;00m \u001b[38;5;28mself\u001b[39m.parent == \u001b[38;5;28mself\u001b[39m:\n",
            "\u001b[31mOSError\u001b[39m: [Errno 30] Read-only file system: '/content'"
          ]
        }
      ],
      "source": [
        "safe_download(f\"https://github.com/ultralytics/assets/releases/download/v0.0.0/sahi.demo.video.mp4\", dir=\"/content\")"
      ]
    },
    {
      "cell_type": "markdown",
      "metadata": {
        "id": "yoP5eiVX1X37"
      },
      "source": [
        "### Inference using SAHI\n",
        "\n",
        "The output results will be stored in `ultralytics/ultralytics/examples/YOLOv8-SAHI-Inference-Video/`"
      ]
    },
    {
      "cell_type": "code",
      "execution_count": null,
      "metadata": {
        "id": "B1YbLnvG1WAS"
      },
      "outputs": [],
      "source": [
        "#inference (default latest model will be selected i.e yolo11n.pt)\n",
        "!python yolov8_sahi.py --source \"path/to/video.mp4\""
      ]
    },
    {
      "cell_type": "code",
      "execution_count": null,
      "metadata": {
        "id": "P9R8a6W_uEgP"
      },
      "outputs": [],
      "source": [
        "# save the results\n",
        "!python yolov8_sahi.py --source \"path/to/video.mp4\" --save-img"
      ]
    },
    {
      "cell_type": "code",
      "execution_count": null,
      "metadata": {
        "id": "FBOo71vhuG5G"
      },
      "outputs": [],
      "source": [
        "#if you want to change model file\n",
        "!python yolov8_sahi.py --source \"path/to/video.mp4\" --weights \"yolo11n.pt\""
      ]
    },
    {
      "cell_type": "markdown",
      "metadata": {
        "id": "bWskbLSKH2S5"
      },
      "source": [
        "<p align=\"center\">\n",
        "  <img width=\"1024\" src=\"https://github.com/ultralytics/docs/releases/download/0/yolo11n-vs-sahi-yolo11n.avif\" alt=\"SAHI Sliced Inference Overview\">\n",
        "</p>"
      ]
    },
    {
      "cell_type": "markdown",
      "metadata": {
        "id": "UTcl_tpK18XM"
      },
      "source": [
        "### Additional Arguments\n",
        "\n",
        "- `--source`: Defines the file path of the video on which inference will be performed.  \n",
        "- `--save-img`: Enables saving the detection results as a video file.  \n",
        "- `--weights`: Allows specifying a different YOLO11 model file (e.g., yolo11n.pt, yolov8s.pt, yolo11m.pt, yolo11l.pt, yolo11x.pt)."
      ]
    }
  ],
  "metadata": {
    "accelerator": "GPU",
    "colab": {
      "provenance": []
    },
    "kernelspec": {
      "display_name": "ven2_cv",
      "language": "python",
      "name": "python3"
    },
    "language_info": {
      "codemirror_mode": {
        "name": "ipython",
        "version": 3
      },
      "file_extension": ".py",
      "mimetype": "text/x-python",
      "name": "python",
      "nbconvert_exporter": "python",
      "pygments_lexer": "ipython3",
      "version": "3.13.5"
    }
  },
  "nbformat": 4,
  "nbformat_minor": 0
}
