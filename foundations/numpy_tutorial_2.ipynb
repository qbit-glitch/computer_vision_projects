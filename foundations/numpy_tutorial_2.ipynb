{
 "cells": [
  {
   "cell_type": "markdown",
   "id": "9d145a5f",
   "metadata": {},
   "source": [
    "# Advanced Numpy Course\n",
    "\n",
    "Link: https://youtu.be/pQt8yQuPOGo\n"
   ]
  },
  {
   "cell_type": "code",
   "execution_count": 3,
   "id": "738af33a",
   "metadata": {},
   "outputs": [],
   "source": [
    "import numpy as np"
   ]
  },
  {
   "cell_type": "markdown",
   "id": "8ee005e1",
   "metadata": {},
   "source": [
    "## Broadcasting\n",
    " "
   ]
  },
  {
   "cell_type": "code",
   "execution_count": 4,
   "id": "fc75d25e",
   "metadata": {},
   "outputs": [
    {
     "name": "stdout",
     "output_type": "stream",
     "text": [
      "[5 6 7]\n"
     ]
    }
   ],
   "source": [
    "a = np.array([1,2,3])       # (3,)\n",
    "b = np.array([4])    # (2,1)\n",
    "print(a+b)"
   ]
  },
  {
   "cell_type": "markdown",
   "id": "5139691f",
   "metadata": {},
   "source": [
    "compatible : either the same number or a one."
   ]
  },
  {
   "cell_type": "code",
   "execution_count": 5,
   "id": "707a49f5",
   "metadata": {},
   "outputs": [
    {
     "name": "stdout",
     "output_type": "stream",
     "text": [
      "[[5 6 7]\n",
      " [6 7 8]]\n"
     ]
    }
   ],
   "source": [
    "a = np.array([[1,2,3]])       # (1,3)\n",
    "b = np.array([[4],[5]])    # (2,1)\n",
    "print(a+b)"
   ]
  },
  {
   "cell_type": "code",
   "execution_count": 6,
   "id": "96412b90",
   "metadata": {},
   "outputs": [
    {
     "data": {
      "text/plain": [
       "'\\n(5, 1, 6, 7, 9, 10, 2, 1)\\n        || (compatible with)\\n(5, 9, 1, 7, 1, 1, 2, 19)\\n'"
      ]
     },
     "execution_count": 6,
     "metadata": {},
     "output_type": "execute_result"
    }
   ],
   "source": [
    "\"\"\"\n",
    "(5, 1, 6, 7, 9, 10, 2, 1)\n",
    "        || (compatible with)\n",
    "(5, 9, 1, 7, 1, 1, 2, 19)\n",
    "\"\"\""
   ]
  },
  {
   "cell_type": "code",
   "execution_count": 7,
   "id": "8d8089de",
   "metadata": {},
   "outputs": [
    {
     "name": "stdout",
     "output_type": "stream",
     "text": [
      "(5, 7, 8, 4, 8, 5, 5)\n"
     ]
    }
   ],
   "source": [
    "a = np.random.random((5,7,1,4,8,1,5))\n",
    "b = np.random.random((5,1,8,4,1,5,1))\n",
    "\n",
    "print((a+b).shape)"
   ]
  },
  {
   "cell_type": "markdown",
   "id": "50f24d73",
   "metadata": {},
   "source": [
    "## Advanced Indexing"
   ]
  },
  {
   "cell_type": "code",
   "execution_count": 8,
   "id": "1c59a704",
   "metadata": {},
   "outputs": [
    {
     "name": "stdout",
     "output_type": "stream",
     "text": [
      "1\n",
      "[1 2 3 4]\n",
      "[1 3 5 7 9]\n"
     ]
    }
   ],
   "source": [
    "a = np.array([1,2,3,4,5,6,7,8,9])\n",
    "\n",
    "print(a[0])\n",
    "print(a[0:4])\n",
    "print(a[0:9:2])         # a[start_idx : end_idx : stride]"
   ]
  },
  {
   "cell_type": "code",
   "execution_count": 4,
   "id": "939a5cae",
   "metadata": {},
   "outputs": [
    {
     "name": "stdout",
     "output_type": "stream",
     "text": [
      "[[1 2 3]\n",
      " [4 5 6]]\n",
      "[[4 5 6]\n",
      " [7 8 9]]\n"
     ]
    }
   ],
   "source": [
    "a = np.array([[1,2,3],\n",
    "              [4,5,6],\n",
    "              [7,8,9]])\n",
    "\n",
    "\n",
    "# Advanced indexing happens when instead of a tuple ([0,1]), we pass a list like: [[0,1]]\n",
    "\n",
    "print(a[0:2])\n",
    "print(a[[1,2]])     # Selecting 1st row and 2nd row"
   ]
  },
  {
   "cell_type": "code",
   "execution_count": 6,
   "id": "f90b81c7",
   "metadata": {},
   "outputs": [
    {
     "name": "stdout",
     "output_type": "stream",
     "text": [
      "[[1 2 3]\n",
      " [4 5 6]\n",
      " [7 8 9]]\n"
     ]
    }
   ],
   "source": [
    "# Dimensional Indexing : We can select everything along a particular dimension\n",
    "print(a[:,:])    # `:` for 1st dimension | `:` for 2nd dimension\n"
   ]
  },
  {
   "cell_type": "code",
   "execution_count": 8,
   "id": "90e59e34",
   "metadata": {},
   "outputs": [
    {
     "name": "stdout",
     "output_type": "stream",
     "text": [
      "[3 6 9]\n"
     ]
    }
   ],
   "source": [
    "print(a[:,2])"
   ]
  },
  {
   "cell_type": "code",
   "execution_count": 10,
   "id": "a3c71d59",
   "metadata": {},
   "outputs": [
    {
     "name": "stdout",
     "output_type": "stream",
     "text": [
      "[4 5 6]\n"
     ]
    }
   ],
   "source": [
    "print(a[1,:])"
   ]
  },
  {
   "cell_type": "code",
   "execution_count": 11,
   "id": "6c55b7ec",
   "metadata": {},
   "outputs": [
    {
     "name": "stdout",
     "output_type": "stream",
     "text": [
      "[[2]\n",
      " [5]\n",
      " [8]]\n"
     ]
    }
   ],
   "source": [
    "print(a[:,1, np.newaxis])"
   ]
  },
  {
   "cell_type": "code",
   "execution_count": 16,
   "id": "0b9f5b75",
   "metadata": {},
   "outputs": [
    {
     "name": "stdout",
     "output_type": "stream",
     "text": [
      "[[1 2 3]\n",
      " [7 8 9]]\n",
      "[[1 3]\n",
      " [4 6]\n",
      " [7 9]]\n",
      "[1 9]\n",
      "[1 6 9]\n"
     ]
    }
   ],
   "source": [
    "print(a[[0,2]])\n",
    "print(a[:,[0,2]])     # give every single row of columns 0,2\n",
    "print(a[[0,2], [0,2]])      # 0th row 0th column and 2nd row - 2nd column\n",
    "print(a[[0,1,2], [0,2,2]])"
   ]
  },
  {
   "cell_type": "markdown",
   "id": "9cf70aaa",
   "metadata": {},
   "source": [
    "#### Boolean Indexing"
   ]
  },
  {
   "cell_type": "code",
   "execution_count": 24,
   "id": "9f8cb96e",
   "metadata": {},
   "outputs": [
    {
     "name": "stdout",
     "output_type": "stream",
     "text": [
      "[[1 2 3]\n",
      " [7 8 9]]\n",
      "[[1 3]\n",
      " [4 6]\n",
      " [7 9]]\n",
      "[1 3 4 6 7 9]\n"
     ]
    }
   ],
   "source": [
    "print(a[[True, False, True]])\n",
    "print(a[:, [True, False, True]])\n",
    "print(a[[[True, False, True], [True, False, True], [True, False, True]]])"
   ]
  },
  {
   "cell_type": "markdown",
   "id": "44d02a0e",
   "metadata": {},
   "source": [
    "## Sorting and Search"
   ]
  },
  {
   "cell_type": "code",
   "execution_count": 27,
   "id": "dba3db09",
   "metadata": {},
   "outputs": [
    {
     "name": "stdout",
     "output_type": "stream",
     "text": [
      "[[5 8 9]\n",
      " [1 4 6]\n",
      " [2 3 7]]\n",
      "[[5 9 8]\n",
      " [4 1 6]\n",
      " [7 3 2]]\n",
      "[[5 8 9]\n",
      " [1 4 6]\n",
      " [2 3 7]]\n"
     ]
    }
   ],
   "source": [
    "a = np.array([[5,9,8],\n",
    "              [4,1,6],\n",
    "              [7,3,2]])\n",
    "print(np.sort(a))     # sorted per row | returns a sorted version of the array and doesn't apply to the array. \n",
    "print(a)              \n",
    "a.sort()              # returns the array in sorted order\n",
    "print(a)              # a.sort() == np.sort(a)"
   ]
  },
  {
   "cell_type": "code",
   "execution_count": 29,
   "id": "ba641018",
   "metadata": {},
   "outputs": [
    {
     "name": "stdout",
     "output_type": "stream",
     "text": [
      "[[1 3 6]\n",
      " [2 4 7]\n",
      " [5 8 9]]\n",
      "[[5 8 9]\n",
      " [1 4 6]\n",
      " [2 3 7]]\n",
      "[[1 3 6]\n",
      " [2 4 7]\n",
      " [5 8 9]]\n",
      "[[1 2 3]\n",
      " [4 5 6]\n",
      " [7 8 9]]\n"
     ]
    }
   ],
   "source": [
    "print(np.sort(a, axis=0))\n",
    "print(np.sort(a, axis=1))\n",
    "print(np.sort(np.sort(a, axis=0), axis=1))\n",
    "\n",
    "print(np.sort(a.flatten()).reshape(a.shape))"
   ]
  },
  {
   "cell_type": "markdown",
   "id": "ddde3018",
   "metadata": {},
   "source": [
    "### Searching for values"
   ]
  },
  {
   "cell_type": "code",
   "execution_count": 34,
   "id": "3f3a1e18",
   "metadata": {},
   "outputs": [],
   "source": [
    "a = np.array([[5,9,8],\n",
    "              [4,1,6],\n",
    "              [7,3,2]])\n",
    "\n",
    "outputs = np.array([0.05, 0.01, 0.87, 0.02, 0.01, 0.03, 0.01, 0.01])\n"
   ]
  },
  {
   "cell_type": "code",
   "execution_count": 35,
   "id": "c28c337a",
   "metadata": {},
   "outputs": [
    {
     "name": "stdout",
     "output_type": "stream",
     "text": [
      "2\n",
      "1\n"
     ]
    }
   ],
   "source": [
    "print(np.argmax(outputs))       # returns the index of the highest value\n",
    "print(np.argmin(outputs))       # give the index of the lowest value (lowest activation)"
   ]
  },
  {
   "cell_type": "code",
   "execution_count": 36,
   "id": "7b32f533",
   "metadata": {},
   "outputs": [
    {
     "name": "stdout",
     "output_type": "stream",
     "text": [
      "(array([0, 1, 2, 3, 4, 5, 6, 7]),)\n"
     ]
    }
   ],
   "source": [
    "print(np.nonzero(outputs))      # gives indices of non-zero values"
   ]
  },
  {
   "cell_type": "code",
   "execution_count": 37,
   "id": "479de0d7",
   "metadata": {},
   "outputs": [
    {
     "name": "stdout",
     "output_type": "stream",
     "text": [
      "[0.05 0.   0.87 0.02 0.   0.03 0.   0.  ]\n"
     ]
    }
   ],
   "source": [
    "print(np.where(outputs > 0.01, outputs, 0))"
   ]
  },
  {
   "cell_type": "code",
   "execution_count": 38,
   "id": "0edaca9f",
   "metadata": {},
   "outputs": [
    {
     "name": "stdout",
     "output_type": "stream",
     "text": [
      "[[ 0  1  2  3]\n",
      " [ 4  5  6  7]\n",
      " [ 8  9 10 11]]\n"
     ]
    }
   ],
   "source": [
    "a = np.arange(12).reshape(3,4)\n",
    "print(a)"
   ]
  },
  {
   "cell_type": "code",
   "execution_count": 43,
   "id": "b5dd7587",
   "metadata": {},
   "outputs": [
    {
     "name": "stdout",
     "output_type": "stream",
     "text": [
      "0 1 2 3 4 5 6 7 8 9 10 11 "
     ]
    }
   ],
   "source": [
    "for row in a:\n",
    "    for element in row:\n",
    "        print(element, end=' ')"
   ]
  },
  {
   "cell_type": "code",
   "execution_count": 46,
   "id": "25540f6e",
   "metadata": {},
   "outputs": [
    {
     "name": "stdout",
     "output_type": "stream",
     "text": [
      "0 1 2 3 4 5 6 7 8 9 10 11 "
     ]
    }
   ],
   "source": [
    "for element in np.nditer(a):   \n",
    "    print(element, end=' ')"
   ]
  },
  {
   "cell_type": "code",
   "execution_count": 48,
   "id": "69b91cd6",
   "metadata": {},
   "outputs": [
    {
     "name": "stdout",
     "output_type": "stream",
     "text": [
      "0 1 2 3 4 5 6 7 8 9 10 11 "
     ]
    }
   ],
   "source": [
    "for element in np.nditer(a, order='C'):     # iterate in row-major order like in C   \n",
    "    print(element, end=' ')"
   ]
  },
  {
   "cell_type": "code",
   "execution_count": 49,
   "id": "47425e6c",
   "metadata": {},
   "outputs": [
    {
     "name": "stdout",
     "output_type": "stream",
     "text": [
      "0 4 8 1 5 9 2 6 10 3 7 11 "
     ]
    }
   ],
   "source": [
    "for element in np.nditer(a, order='F'):     # iterate in column-major order like in Fortran   \n",
    "    print(element, end=' ')"
   ]
  },
  {
   "cell_type": "code",
   "execution_count": 52,
   "id": "6e363fee",
   "metadata": {},
   "outputs": [
    {
     "name": "stdout",
     "output_type": "stream",
     "text": [
      "[[  0   1   4   9]\n",
      " [ 16  25  36  49]\n",
      " [ 64  81 100 121]]\n"
     ]
    }
   ],
   "source": [
    "with np.nditer(a, op_flags=['readwrite']) as it:\n",
    "    for element in it:   \n",
    "        element[...] = element ** 2\n",
    "\n",
    "print(a)"
   ]
  },
  {
   "cell_type": "markdown",
   "id": "b39c0732",
   "metadata": {},
   "source": [
    "## Masking"
   ]
  },
  {
   "cell_type": "code",
   "execution_count": 53,
   "id": "369e4aea",
   "metadata": {},
   "outputs": [],
   "source": [
    "import numpy as np\n",
    "import numpy.ma as ma\n"
   ]
  },
  {
   "cell_type": "code",
   "execution_count": 58,
   "id": "7588e10d",
   "metadata": {},
   "outputs": [
    {
     "name": "stdout",
     "output_type": "stream",
     "text": [
      "[1.0 -- 3.0 -- 4.0 --]\n",
      "2.6666666666666665\n",
      "8.0\n"
     ]
    }
   ],
   "source": [
    "arr = np.array([1,2,3,np.nan, 4, np.inf])\n",
    "masked_arr = ma.masked_array(arr, mask=[0,1,0,1,0,1])\n",
    "print(masked_arr)\n",
    "print(masked_arr.mean())\n",
    "print(masked_arr.sum())\n"
   ]
  },
  {
   "cell_type": "code",
   "execution_count": 60,
   "id": "7af4f8d9",
   "metadata": {},
   "outputs": [
    {
     "name": "stdout",
     "output_type": "stream",
     "text": [
      "[[1 2 --]\n",
      " [-- 5 6]]\n",
      "14\n",
      "[[False False  True]\n",
      " [ True False False]]\n"
     ]
    }
   ],
   "source": [
    "arr = np.array([[1,2,3],[4,5,6]])\n",
    "masked_arr = ma.masked_array(arr, mask = [[0,0,1],[1,0,0]])\n",
    "print(masked_arr)\n",
    "print(masked_arr.sum())\n",
    "print(ma.getmask(masked_arr))"
   ]
  },
  {
   "cell_type": "code",
   "execution_count": 68,
   "id": "d1401a41",
   "metadata": {},
   "outputs": [
    {
     "name": "stdout",
     "output_type": "stream",
     "text": [
      "[[1 2 3]\n",
      " [4 -- --]]\n",
      "[[1 -- --]\n",
      " [-- 5 6]]\n",
      "[[-- 2 3]\n",
      " [4 -- --]]\n",
      "[[1 -- 3]\n",
      " [-- 5 --]]\n"
     ]
    }
   ],
   "source": [
    "print(ma.masked_greater(arr, value=4))\n",
    "print(ma.masked_inside(arr, 2, 4))\n",
    "print(ma.masked_outside(arr, 2, 4))\n",
    "print(ma.masked_where(arr % 2 == 0, arr))\n"
   ]
  },
  {
   "cell_type": "code",
   "execution_count": 69,
   "id": "0fa3b26b",
   "metadata": {},
   "outputs": [
    {
     "name": "stdout",
     "output_type": "stream",
     "text": [
      "[[1.0 -- 3.0]\n",
      " [4.0 5.0 --]]\n"
     ]
    }
   ],
   "source": [
    "arr = np.array([[1,np.nan,3],[4,5,np.inf]])\n",
    "print(ma.masked_invalid(arr))"
   ]
  },
  {
   "cell_type": "markdown",
   "id": "847825d3",
   "metadata": {},
   "source": [
    "## Views and Copy"
   ]
  },
  {
   "cell_type": "code",
   "execution_count": 71,
   "id": "be6821b0",
   "metadata": {},
   "outputs": [
    {
     "name": "stdout",
     "output_type": "stream",
     "text": [
      "[1 2 3]\n",
      "[  1 100   3]\n",
      "[  1 100   3   4   5]\n"
     ]
    }
   ],
   "source": [
    "import numpy as np\n",
    "\n",
    "arr = np.array([1,2,3,4,5])\n",
    "new_arr = arr[0:3]\n",
    "print(new_arr)\n",
    "\n",
    "new_arr[1] = 100\n",
    "print(new_arr)\n",
    "print(arr)"
   ]
  },
  {
   "cell_type": "markdown",
   "id": "18e1e5ec",
   "metadata": {},
   "source": [
    "In the above, `new_arr` is a `view`. `view` is basically just a different viewpoint onto the same data. So it's the same underlying data, the exact same thing in the memory but from a different perspective with different metadata. So if we do changes in the new variable the values changed will be reflected on the old variable too coz they are pointing to the same object."
   ]
  },
  {
   "cell_type": "markdown",
   "id": "b8f7694d",
   "metadata": {},
   "source": [
    "To make a copy of the value/array we have to explicitly declare it using `copy()` method.\n"
   ]
  },
  {
   "cell_type": "code",
   "execution_count": 72,
   "id": "43f12f7e",
   "metadata": {},
   "outputs": [
    {
     "name": "stdout",
     "output_type": "stream",
     "text": [
      "[  1 100   3   4   5]\n",
      "[   1  100 1000    4    5]\n",
      "[  1 100   3   4   5]\n"
     ]
    }
   ],
   "source": [
    "new_arr = arr.copy()\n",
    "print(new_arr)\n",
    "\n",
    "new_arr[2] = 1000\n",
    "print(new_arr)\n",
    "print(arr)"
   ]
  },
  {
   "cell_type": "markdown",
   "id": "db9d9c4b",
   "metadata": {},
   "source": [
    "When we do `slicing`, we always get a `view`. When we do `advanced indexing` we always get a `copy`."
   ]
  },
  {
   "cell_type": "code",
   "execution_count": 73,
   "id": "a4ab3987",
   "metadata": {},
   "outputs": [
    {
     "name": "stdout",
     "output_type": "stream",
     "text": [
      "[[   1 1000    3]\n",
      " [   4    5    6]]\n",
      "[[1 2 3]\n",
      " [4 5 6]\n",
      " [7 8 9]]\n"
     ]
    }
   ],
   "source": [
    "arr = np.array([[1,2,3], [4,5,6], [7,8,9]])\n",
    "\n",
    "new_arr = arr[[0,1]]\n",
    "new_arr[0,1] = 1000\n",
    "\n",
    "print(new_arr)\n",
    "print(arr)"
   ]
  },
  {
   "cell_type": "code",
   "execution_count": 75,
   "id": "980ced23",
   "metadata": {},
   "outputs": [
    {
     "name": "stdout",
     "output_type": "stream",
     "text": [
      "None\n",
      "None\n",
      "[[1 2 3]\n",
      " [4 5 6]\n",
      " [7 8 9]]\n"
     ]
    }
   ],
   "source": [
    "print(arr.base)\n",
    "print(arr.copy().base)\n",
    "print(arr[0:2].base)"
   ]
  },
  {
   "cell_type": "markdown",
   "id": "3e815b8a",
   "metadata": {},
   "source": [
    "## Vectorization"
   ]
  },
  {
   "cell_type": "code",
   "execution_count": null,
   "id": "70023fe4",
   "metadata": {},
   "outputs": [],
   "source": [
    "arr = np.array([[1,2,3], [4,5,6], [7,8,9]])"
   ]
  },
  {
   "cell_type": "code",
   "execution_count": 77,
   "id": "ac7b8bd1",
   "metadata": {},
   "outputs": [],
   "source": [
    "def square_if_even(x):\n",
    "    if x%2 == 0:\n",
    "        return x ** 2\n",
    "    else:\n",
    "        return x"
   ]
  },
  {
   "cell_type": "code",
   "execution_count": 80,
   "id": "279908e9",
   "metadata": {},
   "outputs": [
    {
     "ename": "ValueError",
     "evalue": "The truth value of an array with more than one element is ambiguous. Use a.any() or a.all()",
     "output_type": "error",
     "traceback": [
      "\u001b[31m---------------------------------------------------------------------------\u001b[39m",
      "\u001b[31mValueError\u001b[39m                                Traceback (most recent call last)",
      "\u001b[36mCell\u001b[39m\u001b[36m \u001b[39m\u001b[32mIn[80]\u001b[39m\u001b[32m, line 1\u001b[39m\n\u001b[32m----> \u001b[39m\u001b[32m1\u001b[39m \u001b[38;5;28mprint\u001b[39m(\u001b[43msquare_if_even\u001b[49m\u001b[43m(\u001b[49m\u001b[43marr\u001b[49m\u001b[43m)\u001b[49m)\n",
      "\u001b[36mCell\u001b[39m\u001b[36m \u001b[39m\u001b[32mIn[77]\u001b[39m\u001b[32m, line 2\u001b[39m, in \u001b[36msquare_if_even\u001b[39m\u001b[34m(x)\u001b[39m\n\u001b[32m      1\u001b[39m \u001b[38;5;28;01mdef\u001b[39;00m\u001b[38;5;250m \u001b[39m\u001b[34msquare_if_even\u001b[39m(x):\n\u001b[32m----> \u001b[39m\u001b[32m2\u001b[39m     \u001b[38;5;28;01mif\u001b[39;00m \u001b[43mx\u001b[49m\u001b[43m%\u001b[49m\u001b[32;43m2\u001b[39;49m\u001b[43m \u001b[49m\u001b[43m==\u001b[49m\u001b[43m \u001b[49m\u001b[32;43m0\u001b[39;49m:\n\u001b[32m      3\u001b[39m         \u001b[38;5;28;01mreturn\u001b[39;00m x ** \u001b[32m2\u001b[39m\n\u001b[32m      4\u001b[39m     \u001b[38;5;28;01melse\u001b[39;00m:\n",
      "\u001b[31mValueError\u001b[39m: The truth value of an array with more than one element is ambiguous. Use a.any() or a.all()"
     ]
    }
   ],
   "source": [
    "print(square_if_even(arr))"
   ]
  },
  {
   "cell_type": "code",
   "execution_count": 79,
   "id": "e6d1f131",
   "metadata": {},
   "outputs": [
    {
     "name": "stdout",
     "output_type": "stream",
     "text": [
      "[[ 1  4  3]\n",
      " [16  5 36]\n",
      " [ 7 64  9]]\n"
     ]
    }
   ],
   "source": [
    "vectorized_square_if_even = np.vectorize(square_if_even)\n",
    "print(vectorized_square_if_even(arr))"
   ]
  },
  {
   "cell_type": "code",
   "execution_count": 82,
   "id": "5cdcc7b3",
   "metadata": {},
   "outputs": [
    {
     "name": "stdout",
     "output_type": "stream",
     "text": [
      "[[20 35]\n",
      " [40 75]]\n",
      "[[20 35]\n",
      " [40 75]]\n"
     ]
    }
   ],
   "source": [
    "A = np.array([[1,2],\n",
    "               [3,4]])\n",
    "B = np.array([[0,5],\n",
    "               [10,15]])\n",
    "\n",
    "print(np.matmul(A,B))\n",
    "print(A @ B)"
   ]
  },
  {
   "cell_type": "markdown",
   "id": "b15260fa",
   "metadata": {},
   "source": [
    "## Custom Data Types in Numpy"
   ]
  },
  {
   "cell_type": "code",
   "execution_count": 83,
   "id": "4a1c4b26",
   "metadata": {},
   "outputs": [
    {
     "name": "stdout",
     "output_type": "stream",
     "text": [
      "object\n"
     ]
    }
   ],
   "source": [
    "arr = np.array([1,2,3.2, 'hello', {'key': 'value'}])\n",
    "print(arr.dtype)"
   ]
  },
  {
   "cell_type": "code",
   "execution_count": 90,
   "id": "bfc7107f",
   "metadata": {},
   "outputs": [
    {
     "name": "stdout",
     "output_type": "stream",
     "text": [
      "str320\n",
      "<class 'numpy.str_'>\n",
      "=\n",
      "40\n"
     ]
    }
   ],
   "source": [
    "dt = np.dtype('U10')\n",
    "print(dt.name)\n",
    "print(dt.type)\n",
    "print(dt.byteorder)\n",
    "print(dt.itemsize)"
   ]
  },
  {
   "cell_type": "code",
   "execution_count": 93,
   "id": "9e05c00e",
   "metadata": {},
   "outputs": [
    {
     "name": "stdout",
     "output_type": "stream",
     "text": [
      "['hello' 'world' 'how' 'are' 'you']\n",
      "<U10\n"
     ]
    }
   ],
   "source": [
    "arr = np.array(['hello', 'world', 'how', 'are', 'you'], dtype=dt)\n",
    "print(arr)\n",
    "print(arr.dtype)"
   ]
  },
  {
   "cell_type": "code",
   "execution_count": 95,
   "id": "5021fc17",
   "metadata": {},
   "outputs": [
    {
     "name": "stdout",
     "output_type": "stream",
     "text": [
      "['hello12345' 'world' 'how' 'are' 'you']\n",
      "<U10\n"
     ]
    }
   ],
   "source": [
    "arr = np.array(['hello12345678909876543212345678', 'world', 'how', 'are', 'you'], dtype=dt)    # It will truncate the maximum length of the string to 10 as dt = np.dtype('U10)'\n",
    "print(arr)\n",
    "print(arr.dtype)"
   ]
  },
  {
   "cell_type": "code",
   "execution_count": 96,
   "id": "c039df44",
   "metadata": {},
   "outputs": [
    {
     "name": "stdout",
     "output_type": "stream",
     "text": [
      "[(16, [[ 2.7 ,  1.2 ,  8.7 ], [ 1.1 ,  9.2 , 12.32]], 19.3)\n",
      " (16, [[ 2.7 ,  1.2 ,  8.7 ], [ 1.1 ,  9.2 , 12.32]], 19.3)]\n",
      "[('f0', '<i4'), ('f1', '<f8', (2, 3)), ('f2', '<f4')]\n"
     ]
    }
   ],
   "source": [
    "dt = np.dtype('i4, (2,3)f8, f4')\n",
    "\n",
    "arr = np.array([\n",
    "                (16, np.array([[2.7, 1.2, 8.7], [1.1, 9.2, 12.32]]), 19.3),\n",
    "                (16, np.array([[2.7, 1.2, 8.7], [1.1, 9.2, 12.32]]), 19.3),\n",
    "                ], dtype=dt)\n",
    "\n",
    "print(arr)\n",
    "print(arr.dtype)"
   ]
  },
  {
   "cell_type": "code",
   "execution_count": 97,
   "id": "f2de4b60",
   "metadata": {},
   "outputs": [
    {
     "name": "stdout",
     "output_type": "stream",
     "text": [
      "<U32\n",
      "[('f0', '<U5'), ('f1', '<f4')]\n",
      "object\n"
     ]
    }
   ],
   "source": [
    "dt = np.dtype(\"U5, f4\")\n",
    "\n",
    "arr1 = np.array([('hello', 29.1), ('world', 32.1), ('how', 1231.1)])\n",
    "\n",
    "arr2 = np.array([('hello', 29.1), ('world', 32.1), ('how', 1231.1)], dtype=dt)\n",
    "\n",
    "arr3 = np.array([('hello', 29.1), ('world', 32.1), ('how', 1231.1)], dtype=object)\n",
    "\n",
    "print(arr1.dtype)\n",
    "print(arr2.dtype)\n",
    "print(arr3.dtype)\n",
    "\n"
   ]
  },
  {
   "cell_type": "code",
   "execution_count": 100,
   "id": "5f237a6f",
   "metadata": {},
   "outputs": [
    {
     "name": "stdout",
     "output_type": "stream",
     "text": [
      "768\n",
      "72\n",
      "48\n"
     ]
    }
   ],
   "source": [
    "print(arr1.nbytes)    # get the memory occupied by the numpy array\n",
    "print(arr2.nbytes)\n",
    "print(arr3.nbytes)"
   ]
  },
  {
   "cell_type": "code",
   "execution_count": null,
   "id": "4948794f",
   "metadata": {},
   "outputs": [],
   "source": []
  }
 ],
 "metadata": {
  "kernelspec": {
   "display_name": "ven2_cv",
   "language": "python",
   "name": "python3"
  },
  "language_info": {
   "codemirror_mode": {
    "name": "ipython",
    "version": 3
   },
   "file_extension": ".py",
   "mimetype": "text/x-python",
   "name": "python",
   "nbconvert_exporter": "python",
   "pygments_lexer": "ipython3",
   "version": "3.13.5"
  }
 },
 "nbformat": 4,
 "nbformat_minor": 5
}
