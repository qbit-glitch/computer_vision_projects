{
 "cells": [
  {
   "cell_type": "markdown",
   "id": "71559847",
   "metadata": {},
   "source": [
    "## Numpy Tutorial - 1"
   ]
  },
  {
   "cell_type": "code",
   "execution_count": 1,
   "id": "66f433d2",
   "metadata": {},
   "outputs": [],
   "source": [
    "import numpy as np\n"
   ]
  },
  {
   "cell_type": "code",
   "execution_count": 2,
   "id": "e4c3d79c",
   "metadata": {},
   "outputs": [
    {
     "name": "stdout",
     "output_type": "stream",
     "text": [
      "[1 2 3 4 5 6]\n",
      "2\n",
      "[2 3 4 5 6]\n",
      "[1 2 3 4]\n",
      "[ 1  2 10  4  5  6]\n"
     ]
    }
   ],
   "source": [
    "a = np.array([1,2,3,4,5,6])\n",
    "print(a)\n",
    "print(a[1])\n",
    "print(a[1:])\n",
    "print(a[:-2])\n",
    "\n",
    "a[2] = 10\n",
    "print(a)"
   ]
  },
  {
   "cell_type": "markdown",
   "id": "96cc32c8",
   "metadata": {},
   "source": [
    "## Multiidimensional numpy arrays"
   ]
  },
  {
   "cell_type": "code",
   "execution_count": 5,
   "id": "8f66347a",
   "metadata": {},
   "outputs": [
    {
     "name": "stdout",
     "output_type": "stream",
     "text": [
      "[1 2 3 4]\n",
      "2\n"
     ]
    }
   ],
   "source": [
    "a_mul = np.array([[1,2,3,4],\n",
    "                [4,5,6,9],\n",
    "                [7,8,9,11]])\n",
    "print(a_mul[0])\n",
    "print(a_mul[0,1])"
   ]
  },
  {
   "cell_type": "code",
   "execution_count": 9,
   "id": "5a87d9a6",
   "metadata": {},
   "outputs": [
    {
     "name": "stdout",
     "output_type": "stream",
     "text": [
      "(3, 4)\n",
      "2\n",
      "12\n",
      "int64\n"
     ]
    }
   ],
   "source": [
    "print(a_mul.shape)\n",
    "print(a_mul.ndim)\n",
    "print(a_mul.size)\n",
    "print(a_mul.dtype)"
   ]
  },
  {
   "cell_type": "code",
   "execution_count": 16,
   "id": "1981a27e",
   "metadata": {},
   "outputs": [
    {
     "name": "stdout",
     "output_type": "stream",
     "text": [
      "int32\n",
      "1\n",
      "<class 'numpy.int32'>\n"
     ]
    }
   ],
   "source": [
    "a = np.array([\n",
    "                [1,2,3],\n",
    "                [4, \"5\", 8],\n",
    "                [7,8,9]\n",
    "            ], dtype = np.int32)\n",
    "print(a.dtype)\n",
    "print(a[0,0])\n",
    "print(type(a[0][0]))"
   ]
  },
  {
   "cell_type": "code",
   "execution_count": 17,
   "id": "1ebc5565",
   "metadata": {},
   "outputs": [
    {
     "name": "stdout",
     "output_type": "stream",
     "text": [
      "float64\n",
      "1.0\n",
      "<class 'numpy.float64'>\n"
     ]
    }
   ],
   "source": [
    "a = np.array([\n",
    "                [1,2,3],\n",
    "                [4, \"5\", 8],\n",
    "                [7,8,9]\n",
    "            ], dtype = np.float64)\n",
    "print(a.dtype)\n",
    "print(a[0,0])\n",
    "print(type(a[0][0]))"
   ]
  },
  {
   "cell_type": "code",
   "execution_count": 20,
   "id": "4816c148",
   "metadata": {},
   "outputs": [
    {
     "name": "stdout",
     "output_type": "stream",
     "text": [
      "object\n",
      "1\n",
      "<class 'int'>\n"
     ]
    }
   ],
   "source": [
    "d = {'1': 'A'}\n",
    "a = np.array([\n",
    "                [1,2,3],\n",
    "                [4, d, 8],\n",
    "                [7,8,\"Hello\"]\n",
    "            ])\n",
    "print(a.dtype)\n",
    "print(a[0,0])\n",
    "print(type(a[0][0]))      # unoptimized python integer instead of optimised `int32`"
   ]
  },
  {
   "cell_type": "code",
   "execution_count": 30,
   "id": "1e1786dc",
   "metadata": {},
   "outputs": [
    {
     "name": "stdout",
     "output_type": "stream",
     "text": [
      "[[[9 9 9 9]\n",
      "  [9 9 9 9]\n",
      "  [9 9 9 9]]\n",
      "\n",
      " [[9 9 9 9]\n",
      "  [9 9 9 9]\n",
      "  [9 9 9 9]]]\n",
      "[[[0. 0.]\n",
      "  [0. 0.]\n",
      "  [0. 0.]\n",
      "  [0. 0.]\n",
      "  [0. 0.]]\n",
      "\n",
      " [[0. 0.]\n",
      "  [0. 0.]\n",
      "  [0. 0.]\n",
      "  [0. 0.]\n",
      "  [0. 0.]]\n",
      "\n",
      " [[0. 0.]\n",
      "  [0. 0.]\n",
      "  [0. 0.]\n",
      "  [0. 0.]\n",
      "  [0. 0.]]\n",
      "\n",
      " [[0. 0.]\n",
      "  [0. 0.]\n",
      "  [0. 0.]\n",
      "  [0. 0.]\n",
      "  [0. 0.]]\n",
      "\n",
      " [[0. 0.]\n",
      "  [0. 0.]\n",
      "  [0. 0.]\n",
      "  [0. 0.]\n",
      "  [0. 0.]]\n",
      "\n",
      " [[0. 0.]\n",
      "  [0. 0.]\n",
      "  [0. 0.]\n",
      "  [0. 0.]\n",
      "  [0. 0.]]\n",
      "\n",
      " [[0. 0.]\n",
      "  [0. 0.]\n",
      "  [0. 0.]\n",
      "  [0. 0.]\n",
      "  [0. 0.]]\n",
      "\n",
      " [[0. 0.]\n",
      "  [0. 0.]\n",
      "  [0. 0.]\n",
      "  [0. 0.]\n",
      "  [0. 0.]]\n",
      "\n",
      " [[0. 0.]\n",
      "  [0. 0.]\n",
      "  [0. 0.]\n",
      "  [0. 0.]\n",
      "  [0. 0.]]\n",
      "\n",
      " [[0. 0.]\n",
      "  [0. 0.]\n",
      "  [0. 0.]\n",
      "  [0. 0.]\n",
      "  [0. 0.]]]\n",
      "[[[1. 1.]\n",
      "  [1. 1.]\n",
      "  [1. 1.]\n",
      "  [1. 1.]\n",
      "  [1. 1.]]\n",
      "\n",
      " [[1. 1.]\n",
      "  [1. 1.]\n",
      "  [1. 1.]\n",
      "  [1. 1.]\n",
      "  [1. 1.]]\n",
      "\n",
      " [[1. 1.]\n",
      "  [1. 1.]\n",
      "  [1. 1.]\n",
      "  [1. 1.]\n",
      "  [1. 1.]]\n",
      "\n",
      " [[1. 1.]\n",
      "  [1. 1.]\n",
      "  [1. 1.]\n",
      "  [1. 1.]\n",
      "  [1. 1.]]\n",
      "\n",
      " [[1. 1.]\n",
      "  [1. 1.]\n",
      "  [1. 1.]\n",
      "  [1. 1.]\n",
      "  [1. 1.]]\n",
      "\n",
      " [[1. 1.]\n",
      "  [1. 1.]\n",
      "  [1. 1.]\n",
      "  [1. 1.]\n",
      "  [1. 1.]]\n",
      "\n",
      " [[1. 1.]\n",
      "  [1. 1.]\n",
      "  [1. 1.]\n",
      "  [1. 1.]\n",
      "  [1. 1.]]\n",
      "\n",
      " [[1. 1.]\n",
      "  [1. 1.]\n",
      "  [1. 1.]\n",
      "  [1. 1.]\n",
      "  [1. 1.]]\n",
      "\n",
      " [[1. 1.]\n",
      "  [1. 1.]\n",
      "  [1. 1.]\n",
      "  [1. 1.]\n",
      "  [1. 1.]]\n",
      "\n",
      " [[1. 1.]\n",
      "  [1. 1.]\n",
      "  [1. 1.]\n",
      "  [1. 1.]\n",
      "  [1. 1.]]]\n",
      "[[[0. 0. 0.]\n",
      "  [0. 0. 0.]\n",
      "  [0. 0. 0.]]\n",
      "\n",
      " [[0. 0. 0.]\n",
      "  [0. 0. 0.]\n",
      "  [0. 0. 0.]]\n",
      "\n",
      " [[0. 0. 0.]\n",
      "  [0. 0. 0.]\n",
      "  [0. 0. 0.]]]\n"
     ]
    }
   ],
   "source": [
    "a = np.full((2,3,4), 9)\n",
    "print(a)\n",
    "\n",
    "a0 = np.zeros((10,5,2))\n",
    "print(a0)\n",
    "\n",
    "a1 = np.ones((10,5,2))\n",
    "print(a1)\n",
    "\n",
    "a_empty = np.empty((3,3,3))         # allocates the space without filing in the values\n",
    "print(a_empty)"
   ]
  },
  {
   "cell_type": "markdown",
   "id": "a48c1928",
   "metadata": {},
   "source": [
    "### Filing arrays"
   ]
  },
  {
   "cell_type": "code",
   "execution_count": 31,
   "id": "a975a52e",
   "metadata": {},
   "outputs": [
    {
     "name": "stdout",
     "output_type": "stream",
     "text": [
      "[  0   5  10  15  20  25  30  35  40  45  50  55  60  65  70  75  80  85\n",
      "  90  95 100 105 110 115 120 125 130 135 140 145 150 155 160 165 170 175\n",
      " 180 185 190 195 200 205 210 215 220 225 230 235 240 245 250 255 260 265\n",
      " 270 275 280 285 290 295 300 305 310 315 320 325 330 335 340 345 350 355\n",
      " 360 365 370 375 380 385 390 395 400 405 410 415 420 425 430 435 440 445\n",
      " 450 455 460 465 470 475 480 485 490 495 500 505 510 515 520 525 530 535\n",
      " 540 545 550 555 560 565 570 575 580 585 590 595 600 605 610 615 620 625\n",
      " 630 635 640 645 650 655 660 665 670 675 680 685 690 695 700 705 710 715\n",
      " 720 725 730 735 740 745 750 755 760 765 770 775 780 785 790 795 800 805\n",
      " 810 815 820 825 830 835 840 845 850 855 860 865 870 875 880 885 890 895\n",
      " 900 905 910 915 920 925 930 935 940 945 950 955 960 965 970 975 980 985\n",
      " 990 995]\n"
     ]
    }
   ],
   "source": [
    "x_values = np.arange(0,1000,5)\n",
    "print(x_values)"
   ]
  },
  {
   "cell_type": "code",
   "execution_count": 35,
   "id": "26e35ad2",
   "metadata": {},
   "outputs": [
    {
     "name": "stdout",
     "output_type": "stream",
     "text": [
      "[   0.    1.    2. ...  998.  999. 1000.]\n"
     ]
    }
   ],
   "source": [
    "x_values = np.linspace(0,1000, 1001)\n",
    "print(x_values)"
   ]
  },
  {
   "cell_type": "code",
   "execution_count": 36,
   "id": "e30f0c19",
   "metadata": {},
   "outputs": [
    {
     "name": "stdout",
     "output_type": "stream",
     "text": [
      "nan\n",
      "inf\n"
     ]
    }
   ],
   "source": [
    "print(np.nan)\n",
    "print(np.inf)"
   ]
  },
  {
   "cell_type": "code",
   "execution_count": 37,
   "id": "0e413383",
   "metadata": {},
   "outputs": [
    {
     "name": "stdout",
     "output_type": "stream",
     "text": [
      "True\n",
      "True\n"
     ]
    }
   ],
   "source": [
    "print(np.isnan(np.nan))\n",
    "print(np.isinf(np.inf))"
   ]
  },
  {
   "cell_type": "code",
   "execution_count": 39,
   "id": "19390c3c",
   "metadata": {},
   "outputs": [
    {
     "name": "stdout",
     "output_type": "stream",
     "text": [
      "True\n",
      "[ True]\n"
     ]
    },
    {
     "name": "stderr",
     "output_type": "stream",
     "text": [
      "/var/folders/jm/ghwgvclx7g3d68lp4w8vhpp40000gn/T/ipykernel_84583/3338874168.py:1: RuntimeWarning: invalid value encountered in sqrt\n",
      "  print(np.isnan(np.sqrt(-1)))\n",
      "/var/folders/jm/ghwgvclx7g3d68lp4w8vhpp40000gn/T/ipykernel_84583/3338874168.py:2: RuntimeWarning: divide by zero encountered in divide\n",
      "  print(np.isinf(np.array([10])/0))\n"
     ]
    }
   ],
   "source": [
    "print(np.isnan(np.sqrt(-1)))\n",
    "print(np.isinf(np.array([10])/0))"
   ]
  },
  {
   "cell_type": "markdown",
   "id": "12b5de65",
   "metadata": {},
   "source": [
    "### Mathematical Operations"
   ]
  },
  {
   "cell_type": "code",
   "execution_count": 40,
   "id": "9c762ecc",
   "metadata": {},
   "outputs": [
    {
     "name": "stdout",
     "output_type": "stream",
     "text": [
      "[1, 2, 3, 4, 5, 1, 2, 3, 4, 5, 1, 2, 3, 4, 5, 1, 2, 3, 4, 5, 1, 2, 3, 4, 5]\n",
      "[ 5 10 15 20 25]\n"
     ]
    }
   ],
   "source": [
    "l1 = [1,2,3,4,5]\n",
    "l2 = [6,7,8,9,0]\n",
    "\n",
    "a1 = np.array(l1)\n",
    "a2 = np.array(l2)\n",
    "\n",
    "print(l1 * 5)\n",
    "print(a1 * 5)"
   ]
  },
  {
   "cell_type": "code",
   "execution_count": 44,
   "id": "f6844c8c",
   "metadata": {},
   "outputs": [
    {
     "name": "stdout",
     "output_type": "stream",
     "text": [
      "[1, 2, 3, 4, 5, 6, 7, 8, 9, 0]\n",
      "[ 6  7  8  9 10]\n",
      "[ 7  9 11 13  5]\n"
     ]
    }
   ],
   "source": [
    "print(l1 + l2)\n",
    "print(a1 + 5)\n",
    "print(a1 + a2)"
   ]
  },
  {
   "cell_type": "code",
   "execution_count": 45,
   "id": "f2fb01df",
   "metadata": {},
   "outputs": [
    {
     "name": "stdout",
     "output_type": "stream",
     "text": [
      "[-5 -5 -5 -5  5]\n",
      "[0.16666667 0.28571429 0.375      0.44444444        inf]\n"
     ]
    },
    {
     "name": "stderr",
     "output_type": "stream",
     "text": [
      "/var/folders/jm/ghwgvclx7g3d68lp4w8vhpp40000gn/T/ipykernel_84583/869607138.py:2: RuntimeWarning: divide by zero encountered in divide\n",
      "  print(a1 / a2)\n"
     ]
    }
   ],
   "source": [
    "print(a1 - a2)\n",
    "print(a1 / a2)"
   ]
  },
  {
   "cell_type": "code",
   "execution_count": 46,
   "id": "2956fbb1",
   "metadata": {},
   "outputs": [
    {
     "name": "stdout",
     "output_type": "stream",
     "text": [
      "[[1 2 3]\n",
      " [2 4 6]]\n"
     ]
    }
   ],
   "source": [
    "a1 = np.array([1,2,3])\n",
    "a2 = np.array([[1],\n",
    "                [2]])\n",
    "\n",
    "print(a1 * a2)"
   ]
  },
  {
   "cell_type": "code",
   "execution_count": 47,
   "id": "ac5fc7bc",
   "metadata": {},
   "outputs": [
    {
     "name": "stdout",
     "output_type": "stream",
     "text": [
      "[[1.         1.41421356 1.73205081]\n",
      " [2.         2.23606798 2.44948974]]\n",
      "[[ 0.84147098  0.90929743  0.14112001]\n",
      " [-0.7568025  -0.95892427 -0.2794155 ]]\n",
      "[[ 0.54030231 -0.41614684 -0.9899925 ]\n",
      " [-0.65364362  0.28366219  0.96017029]]\n",
      "[[ 1.55740772 -2.18503986 -0.14254654]\n",
      " [ 1.15782128 -3.38051501 -0.29100619]]\n",
      "[[0.         0.30103    0.47712125]\n",
      " [0.60205999 0.69897    0.77815125]]\n",
      "[[ 2.  4.  8.]\n",
      " [16. 32. 64.]]\n"
     ]
    }
   ],
   "source": [
    "a = np.array([[1,2,3],\n",
    "                [4,5,6]])\n",
    "print(np.sqrt(a))\n",
    "print(np.sin(a))\n",
    "print(np.cos(a))\n",
    "print(np.tan(a))\n",
    "print(np.log10(a))\n",
    "print(np.exp2(a))"
   ]
  },
  {
   "cell_type": "markdown",
   "id": "771fc582",
   "metadata": {},
   "source": [
    "### Array Methods"
   ]
  },
  {
   "cell_type": "code",
   "execution_count": 49,
   "id": "cc965241",
   "metadata": {},
   "outputs": [
    {
     "name": "stdout",
     "output_type": "stream",
     "text": [
      "[1 2 3 7 8 9]\n",
      "[1 2 3]\n",
      "[1 2 3 7 8 9]\n",
      "[1 2 3 4 5 6 7 7 8 9]\n"
     ]
    }
   ],
   "source": [
    "a = np.array([1,2,3])\n",
    "print(np.append(a, [7,8,9]))\n",
    "print(a)\n",
    "\n",
    "a = np.append(a, [7,8,9])\n",
    "print(a)\n",
    "a = np.insert(a,3, [4,5,6,7])\n",
    "print(a)"
   ]
  },
  {
   "cell_type": "code",
   "execution_count": 53,
   "id": "40118ae7",
   "metadata": {},
   "outputs": [
    {
     "name": "stdout",
     "output_type": "stream",
     "text": [
      "[[ 1  2  3  4 56]\n",
      " [ 9  7  5  4  2]]\n",
      "[[ 1  2  3 56]\n",
      " [ 4  8  1  3]\n",
      " [ 9  7  5  2]]\n"
     ]
    }
   ],
   "source": [
    "a = np.array([[1,2,3,4,56],\n",
    "            [4,8,1,2,3],\n",
    "            [9,7,5,4,2]])\n",
    "\n",
    "print(np.delete(a,1,0))\n",
    "\n",
    "print(np.delete(a,3,1))\n"
   ]
  },
  {
   "cell_type": "markdown",
   "id": "d89e2db0",
   "metadata": {},
   "source": [
    "### Structuring Methods\n"
   ]
  },
  {
   "cell_type": "code",
   "execution_count": 60,
   "id": "486c11a8",
   "metadata": {},
   "outputs": [
    {
     "name": "stdout",
     "output_type": "stream",
     "text": [
      "(4, 5)\n",
      "[[ 1  2  3  4]\n",
      " [ 5  6  7  8]\n",
      " [ 9 10 11 12]\n",
      " [13 14 15 16]\n",
      " [17 18 19 20]]\n",
      "[ 1  2  3  4  5  6  7  8  9 10 11 12 13 14 15 16 17 18 19 20]\n",
      "[[ 1]\n",
      " [ 2]\n",
      " [ 3]\n",
      " [ 4]\n",
      " [ 5]\n",
      " [ 6]\n",
      " [ 7]\n",
      " [ 8]\n",
      " [ 9]\n",
      " [10]\n",
      " [11]\n",
      " [12]\n",
      " [13]\n",
      " [14]\n",
      " [15]\n",
      " [16]\n",
      " [17]\n",
      " [18]\n",
      " [19]\n",
      " [20]]\n",
      "[[[ 1  2  3  4  5]\n",
      "  [ 6  7  8  9 10]]\n",
      "\n",
      " [[11 12 13 14 15]\n",
      "  [16 17 18 19 20]]]\n",
      "[[[[[[ 1  2  3  4  5  6  7  8  9 10]\n",
      "     [11 12 13 14 15 16 17 18 19 20]]]]]]\n"
     ]
    }
   ],
   "source": [
    "a = np.array([[1,2,3,4,5],\n",
    "            [6,7,8,9,10],\n",
    "            [11,12,13,14,15],\n",
    "            [16,17,18,19,20]])\n",
    "\n",
    "print(a.shape)\n",
    "print(a.reshape((5,4)))\n",
    "print(a.reshape(20,))\n",
    "print(a.reshape(20,1)) \n",
    "print(a.reshape(2,2,5)) \n",
    "print(a.reshape(1,1,1,1,2,10))"
   ]
  },
  {
   "cell_type": "code",
   "execution_count": 67,
   "id": "9782bbc8",
   "metadata": {},
   "outputs": [
    {
     "name": "stdout",
     "output_type": "stream",
     "text": [
      "[[ 1  2  3  4  5]\n",
      " [ 6  7  8  9 10]\n",
      " [11 12 13 14 15]\n",
      " [16 17 18 19 20]]\n"
     ]
    }
   ],
   "source": [
    "a.reshape((10,2))\n",
    "print(a)\n"
   ]
  },
  {
   "cell_type": "code",
   "execution_count": 68,
   "id": "12e9415e",
   "metadata": {},
   "outputs": [
    {
     "name": "stdout",
     "output_type": "stream",
     "text": [
      "[[ 1  2]\n",
      " [ 3  4]\n",
      " [ 5  6]\n",
      " [ 7  8]\n",
      " [ 9 10]\n",
      " [11 12]\n",
      " [13 14]\n",
      " [15 16]\n",
      " [17 18]\n",
      " [19 20]]\n"
     ]
    }
   ],
   "source": [
    "a.resize((10,2))\n",
    "print(a)"
   ]
  },
  {
   "cell_type": "code",
   "execution_count": 69,
   "id": "4e692edb",
   "metadata": {},
   "outputs": [
    {
     "name": "stdout",
     "output_type": "stream",
     "text": [
      "[ 1  2  3  4  5  6  7  8  9 10 11 12 13 14 15 16 17 18 19 20]\n",
      "[ 1  2  3  4  5  6  7  8  9 10 11 12 13 14 15 16 17 18 19 20]\n"
     ]
    }
   ],
   "source": [
    "print(a.flatten())   # returns a flatten copy of the array\n",
    "print(a.ravel())     # returns a flatten view of the array"
   ]
  },
  {
   "cell_type": "code",
   "execution_count": 71,
   "id": "7a7a2437",
   "metadata": {},
   "outputs": [
    {
     "name": "stdout",
     "output_type": "stream",
     "text": [
      "[  1   2 100   4   5   6   7   8   9  10  11  12  13  14  15  16  17  18\n",
      "  19  20]\n",
      "[[ 1  2]\n",
      " [ 3  4]\n",
      " [ 5  6]\n",
      " [ 7  8]\n",
      " [ 9 10]\n",
      " [11 12]\n",
      " [13 14]\n",
      " [15 16]\n",
      " [17 18]\n",
      " [19 20]]\n"
     ]
    }
   ],
   "source": [
    "var1 = a.flatten()\n",
    "var1[2] = 100\n",
    "print(var1)\n",
    "print(a)"
   ]
  },
  {
   "cell_type": "code",
   "execution_count": 72,
   "id": "0aa3542d",
   "metadata": {},
   "outputs": [
    {
     "name": "stdout",
     "output_type": "stream",
     "text": [
      "[  1   2 100   4   5   6   7   8   9  10  11  12  13  14  15  16  17  18\n",
      "  19  20]\n",
      "[[  1   2]\n",
      " [100   4]\n",
      " [  5   6]\n",
      " [  7   8]\n",
      " [  9  10]\n",
      " [ 11  12]\n",
      " [ 13  14]\n",
      " [ 15  16]\n",
      " [ 17  18]\n",
      " [ 19  20]]\n"
     ]
    }
   ],
   "source": [
    "var1 = a.ravel()        \n",
    "var1[2] = 100       # it will actually change the original array\n",
    "print(var1)\n",
    "print(a)"
   ]
  },
  {
   "cell_type": "code",
   "execution_count": 73,
   "id": "15a88b25",
   "metadata": {},
   "outputs": [
    {
     "name": "stdout",
     "output_type": "stream",
     "text": [
      "[np.int64(1), np.int64(2), np.int64(3), np.int64(4), np.int64(5), np.int64(6), np.int64(7), np.int64(8), np.int64(9), np.int64(10), np.int64(11), np.int64(12), np.int64(13), np.int64(14), np.int64(15), np.int64(16), np.int64(17), np.int64(18), np.int64(19), np.int64(20)]\n"
     ]
    }
   ],
   "source": [
    "a = np.array([[1,2,3,4,5],\n",
    "            [6,7,8,9,10],\n",
    "            [11,12,13,14,15],\n",
    "            [16,17,18,19,20]])\n",
    "\n",
    "var  = [v for v in a.flat]\n",
    "print(var)"
   ]
  },
  {
   "cell_type": "code",
   "execution_count": 75,
   "id": "e59fa1f6",
   "metadata": {},
   "outputs": [
    {
     "name": "stdout",
     "output_type": "stream",
     "text": [
      "[[ 1  6 11 16]\n",
      " [ 2  7 12 17]\n",
      " [ 3  8 13 18]\n",
      " [ 4  9 14 19]\n",
      " [ 5 10 15 20]]\n",
      "[[ 1  6 11 16]\n",
      " [ 2  7 12 17]\n",
      " [ 3  8 13 18]\n",
      " [ 4  9 14 19]\n",
      " [ 5 10 15 20]]\n"
     ]
    }
   ],
   "source": [
    "# transposing or swapping of axis\n",
    "print(a.transpose())\n",
    "print(a.T)"
   ]
  },
  {
   "cell_type": "code",
   "execution_count": 76,
   "id": "e2634e4e",
   "metadata": {},
   "outputs": [
    {
     "name": "stdout",
     "output_type": "stream",
     "text": [
      "[[ 1  6 11 16]\n",
      " [ 2  7 12 17]\n",
      " [ 3  8 13 18]\n",
      " [ 4  9 14 19]\n",
      " [ 5 10 15 20]]\n"
     ]
    }
   ],
   "source": [
    "print(a.swapaxes(0,1))"
   ]
  },
  {
   "cell_type": "markdown",
   "id": "842a8c22",
   "metadata": {},
   "source": [
    "### Concatenating, Stacking and Splitting"
   ]
  },
  {
   "cell_type": "code",
   "execution_count": null,
   "id": "f6e2b46b",
   "metadata": {},
   "outputs": [
    {
     "name": "stdout",
     "output_type": "stream",
     "text": [
      "[[ 1  2  3  4  5 11 12 13 14 15]\n",
      " [ 6  7  8  9 10 16 17 18 19 20]]\n",
      "[[ 1  2  3  4  5]\n",
      " [ 6  7  8  9 10]\n",
      " [11 12 13 14 15]\n",
      " [16 17 18 19 20]]\n"
     ]
    }
   ],
   "source": [
    "a1 = np.array([[1,2,3,4,5],\n",
    "                [6,7,8,9,10]])\n",
    "\n",
    "a2 = np.array([[11,12,13,14,15],\n",
    "                [16,17,18,19,20]])\n",
    "\n",
    "print(np.concatenate((a1,a2), axis = 1))\n",
    "print(np.concatenate((a1,a2), axis = 0))\n",
    "\n"
   ]
  },
  {
   "cell_type": "code",
   "execution_count": 84,
   "id": "6a067080",
   "metadata": {},
   "outputs": [
    {
     "name": "stdout",
     "output_type": "stream",
     "text": [
      "[[ 1  2  3  4  5]\n",
      " [ 6  7  8  9 10]]\n",
      "[[11 12 13 14 15]\n",
      " [16 17 18 19 20]]\n",
      "[[[ 1  2  3  4  5]\n",
      "  [ 6  7  8  9 10]]\n",
      "\n",
      " [[11 12 13 14 15]\n",
      "  [16 17 18 19 20]]]\n"
     ]
    }
   ],
   "source": [
    "print(a1)\n",
    "print(a2)\n",
    "a = np.stack((a1,a2))\n",
    "print(a)"
   ]
  },
  {
   "cell_type": "code",
   "execution_count": 87,
   "id": "0d4b6a5b",
   "metadata": {},
   "outputs": [
    {
     "name": "stdout",
     "output_type": "stream",
     "text": [
      "[[ 1  2  3  4  5 11 12 13 14 15]\n",
      " [ 6  7  8  9 10 16 17 18 19 20]]\n",
      "[[ 1  2  3  4  5]\n",
      " [ 6  7  8  9 10]\n",
      " [11 12 13 14 15]\n",
      " [16 17 18 19 20]]\n"
     ]
    }
   ],
   "source": [
    "print(np.hstack((a1,a2)))\n",
    "print(np.vstack((a1,a2)))"
   ]
  },
  {
   "cell_type": "code",
   "execution_count": 94,
   "id": "d41b5358",
   "metadata": {},
   "outputs": [
    {
     "name": "stdout",
     "output_type": "stream",
     "text": [
      "[array([[ 1],\n",
      "       [ 6],\n",
      "       [11],\n",
      "       [16]]), array([[ 2],\n",
      "       [ 7],\n",
      "       [12],\n",
      "       [17]]), array([[ 3],\n",
      "       [ 8],\n",
      "       [13],\n",
      "       [18]]), array([[ 4],\n",
      "       [ 9],\n",
      "       [14],\n",
      "       [19]]), array([[ 5],\n",
      "       [10],\n",
      "       [15],\n",
      "       [20]]), array([[ 6],\n",
      "       [11],\n",
      "       [16],\n",
      "       [21]])]\n"
     ]
    }
   ],
   "source": [
    "a = np.array([[1,2,3,4,5,6],\n",
    "            [6,7,8,9,10,11],\n",
    "            [11,12,13,14,15,16],\n",
    "            [16,17,18,19,20,21]])\n",
    "\n",
    "print(np.split(a, 6, axis = 1))"
   ]
  },
  {
   "cell_type": "markdown",
   "id": "87116031",
   "metadata": {},
   "source": [
    "### Aggregate Functions"
   ]
  },
  {
   "cell_type": "code",
   "execution_count": 95,
   "id": "c1506b4d",
   "metadata": {},
   "outputs": [
    {
     "name": "stdout",
     "output_type": "stream",
     "text": [
      "1\n",
      "21\n",
      "11.0\n",
      "5.84522597225006\n",
      "264\n",
      "11.0\n"
     ]
    }
   ],
   "source": [
    "print(a.min())\n",
    "print(a.max())\n",
    "print(a.mean())\n",
    "print(a.std())\n",
    "print(a.sum())\n",
    "print(np.median(a))"
   ]
  },
  {
   "cell_type": "markdown",
   "id": "500f472a",
   "metadata": {},
   "source": [
    "### Numpy Random"
   ]
  },
  {
   "cell_type": "code",
   "execution_count": null,
   "id": "33e167ad",
   "metadata": {},
   "outputs": [
    {
     "name": "stdout",
     "output_type": "stream",
     "text": [
      "[[[16 19 18 16]\n",
      "  [16 11 11 16]\n",
      "  [19 12 18 13]]\n",
      "\n",
      " [[18 15 15 14]\n",
      "  [16 12 10 13]\n",
      "  [11 19 17 16]]]\n"
     ]
    }
   ],
   "source": [
    "numbers = np.random.randint(10, 20, size=(2,3,4))\n",
    "print(numbers)"
   ]
  },
  {
   "cell_type": "code",
   "execution_count": 100,
   "id": "97f8bb3a",
   "metadata": {},
   "outputs": [
    {
     "name": "stdout",
     "output_type": "stream",
     "text": [
      "[[5 5 3 4 4 5 7 6 5 6]\n",
      " [5 4 7 5 3 6 5 7 4 4]\n",
      " [4 6 6 6 3 5 5 4 2 7]\n",
      " [6 5 6 3 7 3 7 4 5 3]\n",
      " [6 4 2 5 4 5 7 5 2 1]]\n"
     ]
    }
   ],
   "source": [
    "numbers = np.random.binomial(10, p=0.5, size=(5,10))\n",
    "print(numbers)"
   ]
  },
  {
   "cell_type": "code",
   "execution_count": 101,
   "id": "442e0a29",
   "metadata": {},
   "outputs": [
    {
     "name": "stdout",
     "output_type": "stream",
     "text": [
      "[[187.39083086 170.49097943 170.24464979 181.17711148 171.37527357\n",
      "  177.74032302 171.47469858 166.77286584 176.71482063 176.47416162]\n",
      " [167.17024115 188.33012274 180.12911533 176.77955052 194.52759231\n",
      "  227.54498312 172.53471033 153.0889859  165.25337512 164.33885371]\n",
      " [196.11759974 174.9959284  147.4970018  164.58162211 158.80390631\n",
      "  177.99161098 191.09129207 177.66069874 192.09576292 175.745785  ]\n",
      " [188.1249904  144.84642739 159.28646393 183.64443159 162.83768268\n",
      "  142.5008232  197.15025717 166.70746742 167.24867531 172.97721361]\n",
      " [192.29723445 169.41532697 181.94743654 175.19343965 151.72631918\n",
      "  171.1534996  164.76602005 165.10080466 169.78151819 158.43520092]]\n"
     ]
    }
   ],
   "source": [
    "numbers = np.random.normal(loc = 170, scale = 15, size=(5,10))\n",
    "print(numbers)"
   ]
  },
  {
   "cell_type": "code",
   "execution_count": 102,
   "id": "56c03c89",
   "metadata": {},
   "outputs": [
    {
     "name": "stdout",
     "output_type": "stream",
     "text": [
      "[[20 40 50 20 10 30 50 30 50 10]\n",
      " [40 40 10 30 20 30 20 30 20 20]\n",
      " [10 10 40 20 20 50 20 40 20 20]\n",
      " [40 40 40 10 30 20 50 50 20 10]\n",
      " [30 10 10 10 20 40 20 10 10 20]]\n"
     ]
    }
   ],
   "source": [
    "numbers = np.random.choice([10,20,30,40,50], size=(5,10))\n",
    "print(numbers)"
   ]
  },
  {
   "cell_type": "markdown",
   "id": "b49b876a",
   "metadata": {},
   "source": [
    "### Exporting and Importing Numpy Arrays"
   ]
  },
  {
   "cell_type": "code",
   "execution_count": 103,
   "id": "27bc452b",
   "metadata": {},
   "outputs": [],
   "source": [
    "a = np.array([[1,2,3,4,5,6],\n",
    "            [6,7,8,9,10,11],\n",
    "            [11,12,13,14,15,16],\n",
    "            [16,17,18,19,20,21]])\n",
    "np.save(\"myarray.npy\", a)"
   ]
  },
  {
   "cell_type": "code",
   "execution_count": 104,
   "id": "ed95dc2b",
   "metadata": {},
   "outputs": [
    {
     "name": "stdout",
     "output_type": "stream",
     "text": [
      "[[ 1  2  3  4  5  6]\n",
      " [ 6  7  8  9 10 11]\n",
      " [11 12 13 14 15 16]\n",
      " [16 17 18 19 20 21]]\n"
     ]
    }
   ],
   "source": [
    "b = np.load(\"myarray.npy\")\n",
    "print(b)"
   ]
  },
  {
   "cell_type": "code",
   "execution_count": 106,
   "id": "6bf38c30",
   "metadata": {},
   "outputs": [],
   "source": [
    "np.savetxt(\"myarray.csv\", a, delimiter=',')"
   ]
  },
  {
   "cell_type": "code",
   "execution_count": 107,
   "id": "0c38dc4f",
   "metadata": {},
   "outputs": [
    {
     "name": "stdout",
     "output_type": "stream",
     "text": [
      "[[ 1.  2.  3.  4.  5.  6.]\n",
      " [ 6.  7.  8.  9. 10. 11.]\n",
      " [11. 12. 13. 14. 15. 16.]\n",
      " [16. 17. 18. 19. 20. 21.]]\n"
     ]
    }
   ],
   "source": [
    "c = np.loadtxt(\"myarray.csv\", delimiter=\",\")\n",
    "print(c)"
   ]
  },
  {
   "cell_type": "code",
   "execution_count": null,
   "id": "8b48a88c",
   "metadata": {},
   "outputs": [],
   "source": []
  }
 ],
 "metadata": {
  "kernelspec": {
   "display_name": "ven2_cv",
   "language": "python",
   "name": "python3"
  },
  "language_info": {
   "codemirror_mode": {
    "name": "ipython",
    "version": 3
   },
   "file_extension": ".py",
   "mimetype": "text/x-python",
   "name": "python",
   "nbconvert_exporter": "python",
   "pygments_lexer": "ipython3",
   "version": "3.13.5"
  }
 },
 "nbformat": 4,
 "nbformat_minor": 5
}
