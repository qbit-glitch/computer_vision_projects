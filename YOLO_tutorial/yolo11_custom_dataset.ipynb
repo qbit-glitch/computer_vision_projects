{
 "cells": [
  {
   "cell_type": "code",
   "execution_count": null,
   "id": "5a0081f5",
   "metadata": {},
   "outputs": [],
   "source": [
    "!pip install ultralytics --upgrade\n"
   ]
  },
  {
   "cell_type": "markdown",
   "id": "7dfa7e6d",
   "metadata": {},
   "source": [
    "### Download the custom model using Roboflow"
   ]
  },
  {
   "cell_type": "code",
   "execution_count": null,
   "id": "10c7bb78",
   "metadata": {},
   "outputs": [],
   "source": [
    "!pip install roboflow\n",
    "\n",
    "from roboflow import Roboflow\n",
    "rf = Roboflow(api_key = \"\")\n",
    "project = rf.workspace(\"nicolai-nielsen-uwlig\").project(\"hard-hat-sample-aijin\")\n",
    "version = project.version(1)\n",
    "dataset = version.download('yolov11')"
   ]
  },
  {
   "cell_type": "markdown",
   "id": "05fa4736",
   "metadata": {},
   "source": [
    "Run the model"
   ]
  },
  {
   "cell_type": "code",
   "execution_count": null,
   "id": "988e2c92",
   "metadata": {},
   "outputs": [],
   "source": [
    "!yolo detect train data=/content/pin-1/data.yaml model=yolo11s.py epochs=50 imgsz=640"
   ]
  },
  {
   "cell_type": "markdown",
   "id": "9035c4af",
   "metadata": {},
   "source": [
    "### Predict the results\n"
   ]
  },
  {
   "cell_type": "code",
   "execution_count": null,
   "id": "cea03e39",
   "metadata": {},
   "outputs": [],
   "source": [
    "from ultralytics import YOLO\n",
    "\n",
    "# Load a model\n",
    "model = YOLO(\"/content/runs/detect/train2/weights/best.pt\")\n",
    "\n",
    "# Train the model\n",
    "results = model(\"https://ultralytics.com/images/bus.jpg\", save=True)"
   ]
  }
 ],
 "metadata": {
  "kernelspec": {
   "display_name": "venv1",
   "language": "python",
   "name": "python3"
  },
  "language_info": {
   "name": "python",
   "version": "3.13.5"
  }
 },
 "nbformat": 4,
 "nbformat_minor": 5
}
